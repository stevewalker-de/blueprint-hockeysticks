{
 "cells": [
  {
   "cell_type": "code",
   "execution_count": null,
   "id": "81002dfb-367d-4e93-bb8d-f758c0bf14f1",
   "metadata": {},
   "outputs": [],
   "source": [
    "%%bash\n",
    "python3 -m pip install --user cookiecutter"
   ]
  },
  {
   "cell_type": "code",
   "execution_count": null,
   "id": "db60db17-443c-4bf3-9438-b8c9df9c73c7",
   "metadata": {},
   "outputs": [],
   "source": [
    "#export PATH=$HOME/.local/bin:$PATH"
   ]
  },
  {
   "cell_type": "code",
   "execution_count": null,
   "id": "cf75cf90-5a88-475f-9f49-22f5ef730f69",
   "metadata": {},
   "outputs": [],
   "source": [
    "%%bash\n",
    "/home/jupyter/.local/bin/cookiecutter --no-input -f --output-dir '/home/jupyter/ssw'  https://github.com/terraform-google-modules/terraform-google-module-template.git"
   ]
  },
  {
   "cell_type": "code",
   "execution_count": null,
   "id": "a5c857e5-aba6-4620-8da1-020908b4c7e0",
   "metadata": {},
   "outputs": [],
   "source": [
    "!sudo apt-get install google-cloud-sdk-config-connector"
   ]
  },
  {
   "cell_type": "code",
   "execution_count": null,
   "id": "bfe6364e-c628-4501-9323-62390a77f39f",
   "metadata": {},
   "outputs": [],
   "source": [
    "!gcloud services enable cloudasset.googleapis.com\n"
   ]
  },
  {
   "cell_type": "code",
   "execution_count": null,
   "id": "36076aa4-4107-4901-bcfc-dc35470613e5",
   "metadata": {},
   "outputs": [],
   "source": [
    "!gcloud projects add-iam-policy-binding 'steveswalker-sandbox' \\\n",
    "  --member=serviceAccount:service-542763728582@gcp-sa-cloudasset.iam.gserviceaccount.com \\\n",
    "  --role=roles/servicenetworking.serviceAgent"
   ]
  },
  {
   "cell_type": "code",
   "execution_count": null,
   "id": "896892d7-73dc-4963-8119-1ebee7a68715",
   "metadata": {},
   "outputs": [],
   "source": [
    "!gcloud beta resource-config list-resource-types\n",
    "BigQueryTable"
   ]
  },
  {
   "cell_type": "code",
   "execution_count": null,
   "id": "ac296f85-08ce-4704-868d-21b2093784eb",
   "metadata": {},
   "outputs": [],
   "source": [
    "!gcloud projects add-iam-policy-binding 'steveswalker-sandbox' \\\n",
    "  --member=serviceAccount:542763728582-compute@developer.gserviceaccount.com \\\n",
    "  --role=roles/servicenetworking.serviceAgent"
   ]
  },
  {
   "cell_type": "code",
   "execution_count": null,
   "id": "82152ca9-c991-488b-8152-f7b2059cd5aa",
   "metadata": {},
   "outputs": [],
   "source": [
    "!gcloud beta resource-config bulk-export \\\n",
    "#  --resource-types='BigQueryTable' \\\n",
    "  --project='steveswalker-sandbox' \\\n",
    "  --resource-format=terraform\n",
    "\n"
   ]
  },
  {
   "cell_type": "code",
   "execution_count": null,
   "id": "ba829bcc-943c-4f19-b618-44c244777d8c",
   "metadata": {},
   "outputs": [],
   "source": [
    "%%bash\n",
    "mkdir /home/jupyter/tf"
   ]
  },
  {
   "cell_type": "code",
   "execution_count": null,
   "id": "24495974-5478-4f3c-ba83-bc50e0875d8c",
   "metadata": {},
   "outputs": [],
   "source": [
    "!gcloud beta resource-config bulk-export --project='steveswalker-sandbox' --path=/home/jupyter/tf --resource-format=terraform "
   ]
  },
  {
   "cell_type": "code",
   "execution_count": null,
   "id": "c2b387a2-e679-47d7-aa52-62ac45700027",
   "metadata": {},
   "outputs": [],
   "source": [
    "!gcloud beta notebooks environments list --location=us-central1-a"
   ]
  },
  {
   "cell_type": "code",
   "execution_count": null,
   "id": "b702b70b-0866-44f2-b210-162633f13dc6",
   "metadata": {},
   "outputs": [],
   "source": [
    "!gcloud run services describe --region='us-central1' 'gcs-load-bq'"
   ]
  },
  {
   "cell_type": "code",
   "execution_count": null,
   "id": "3cce3990-5642-4cfe-a493-a911bc685be5",
   "metadata": {},
   "outputs": [],
   "source": [
    "!gcloud functions regions list --gen2 "
   ]
  },
  {
   "cell_type": "code",
   "execution_count": null,
   "id": "a9b636d6-56b0-414a-acaf-9b89f48ec625",
   "metadata": {},
   "outputs": [],
   "source": [
    "!gcloud compute images list \\\n",
    "    --project deeplearning-platform-release | grep notebooks"
   ]
  },
  {
   "cell_type": "code",
   "execution_count": null,
   "id": "a98d3555-cfd6-483b-9af7-5dd0a6e43e5f",
   "metadata": {},
   "outputs": [],
   "source": [
    "%%bash\n",
    "wget https://releases.hashicorp.com/terraform/1.3.6/terraform_1.3.6_linux_amd64.zip\n",
    "unzip terraform*.zip\n",
    "rm terraform_1.3.6_linux_amd64.zip"
   ]
  },
  {
   "cell_type": "code",
   "execution_count": null,
   "id": "0406aa41-5a40-4d92-b062-b350e9039bb4",
   "metadata": {},
   "outputs": [],
   "source": [
    "\n",
    "from google.cloud import bigquery\n",
    "\n",
    "# Construct a BigQuery client object.\n",
    "client = bigquery.Client()\n",
    "\n",
    "# TODO(developer): Set model_id to the ID of the model to fetch.\n",
    "dataset_id = 'ds_edw'\n",
    "\n",
    "# Use the delete_contents parameter to delete a dataset and its contents.\n",
    "# Use the not_found_ok parameter to not receive an error if the dataset has already been deleted.\n",
    "client.delete_dataset(\n",
    "    dataset_id, delete_contents=True, not_found_ok=True\n",
    ")  # Make an API request.\n",
    "\n",
    "print(\"Deleted dataset '{}'.\".format(dataset_id))"
   ]
  },
  {
   "cell_type": "code",
   "execution_count": null,
   "id": "6075ed6a-30eb-4c66-94d6-31cbfe2ebab9",
   "metadata": {},
   "outputs": [],
   "source": [
    "blah = !curl \\\n",
    "    -H \"Authorization: Bearer $(gcloud auth print-access-token)\" \\\n",
    "    -H \"Content-Type: application/json\" \\\n",
    "    \"https://config.googleapis.com/v1alpha2/projects/g-sql-morphic-luminous/locations/us-central1/deployments\"\n",
    "type(blah)"
   ]
  },
  {
   "cell_type": "code",
   "execution_count": null,
   "id": "fa9b1967-fef5-47cd-8b81-84fcaf50a148",
   "metadata": {},
   "outputs": [],
   "source": [
    "# [START functions_cloudevent_storage]\n",
    "import functions_framework\n",
    "\n",
    "\n",
    "# Triggered by a change in a storage bucket\n",
    "@functions_framework.cloud_event\n",
    "def hello_gcs(cloud_event):\n",
    "    data = cloud_event.data\n",
    "\n",
    "    from google.cloud import bigquery\n",
    "\n",
    "    client = bigquery.Client()\n",
    "    table_id = \"g-sql-morphic-luminous.A_1.taxi_parquet\"\n",
    "    job_config = bigquery.LoadJobConfig(\n",
    "        source_format=bigquery.SourceFormat.PARQUET,\n",
    "    )\n",
    "    uri = \"gs://solution-cdc-bucket/\" + data[\"name\"]\n",
    "\n",
    "    load_job = client.load_table_from_uri(uri, table_id, job_config=job_config)  \n",
    "\n",
    "    load_job.result()\n",
    "\n",
    "    destination_table = client.get_table(table_id)\n",
    "    print(\"Loaded {} rows.\".format(destination_table.num_rows))"
   ]
  },
  {
   "cell_type": "code",
   "execution_count": null,
   "id": "98e45932-b0b4-4ecb-a7cf-1775cef900e1",
   "metadata": {},
   "outputs": [],
   "source": [
    "gcloud functions deploy python-finalize-function \\\n",
    "--gen2 \\\n",
    "--runtime=python310 \\\n",
    "--region=REGION \\\n",
    "--source=. \\\n",
    "--entry-point=hello_gcs \\\n",
    "--trigger-event-filters=\"type=google.cloud.storage.object.v1.finalized\" \\\n",
    "--trigger-event-filters=\"bucket=YOUR_BUCKET_NAME\""
   ]
  },
  {
   "cell_type": "code",
   "execution_count": null,
   "id": "26ba0367-a595-4333-baff-45dfbb34829a",
   "metadata": {},
   "outputs": [],
   "source": [
    "!gcloud auth list"
   ]
  },
  {
   "cell_type": "code",
   "execution_count": null,
   "id": "51443d5e-2add-4c5f-82c3-ba7dba92dc9b",
   "metadata": {},
   "outputs": [],
   "source": [
    "%%bash\n",
    "rm function.zip\n",
    "zip function.zip main.py\n",
    "zip function.zip requirements.txt\n",
    "gsutil cp function.zip  gs://solution-cdc-assets-2023"
   ]
  },
  {
   "cell_type": "code",
   "execution_count": null,
   "id": "553d2849-94e7-4cb5-adb0-7f35593d2202",
   "metadata": {},
   "outputs": [],
   "source": []
  }
 ],
 "metadata": {
  "environment": {
   "kernel": "python3",
   "name": "common-cpu.m103",
   "type": "gcloud",
   "uri": "gcr.io/deeplearning-platform-release/base-cpu:m103"
  },
  "kernelspec": {
   "display_name": "Python 3",
   "language": "python",
   "name": "python3"
  },
  "language_info": {
   "codemirror_mode": {
    "name": "ipython",
    "version": 3
   },
   "file_extension": ".py",
   "mimetype": "text/x-python",
   "name": "python",
   "nbconvert_exporter": "python",
   "pygments_lexer": "ipython3",
   "version": "3.7.12"
  }
 },
 "nbformat": 4,
 "nbformat_minor": 5
}
