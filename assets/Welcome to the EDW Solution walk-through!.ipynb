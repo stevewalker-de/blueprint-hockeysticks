{
 "cells": [
  {
   "cell_type": "code",
   "execution_count": 2,
   "id": "e9e2c4de-a2fe-4cfb-a625-cf2d02f565aa",
   "metadata": {},
   "outputs": [
    {
     "name": "stdout",
     "output_type": "stream",
     "text": [
      "braw...truncate...bash...braw....\n"
     ]
    }
   ],
   "source": [
    "print(\"braw...truncate...bash...braw....\")"
   ]
  },
  {
   "cell_type": "code",
   "execution_count": null,
   "id": "a469d88d-8184-4ac5-bc13-a3f861a0e2bc",
   "metadata": {},
   "outputs": [],
   "source": []
  }
 ],
 "metadata": {
  "environment": {
   "kernel": "python3",
   "name": "common-cpu.m103",
   "type": "gcloud",
   "uri": "gcr.io/deeplearning-platform-release/base-cpu:m103"
  },
  "kernelspec": {
   "display_name": "Python 3",
   "language": "python",
   "name": "python3"
  },
  "language_info": {
   "codemirror_mode": {
    "name": "ipython",
    "version": 3
   },
   "file_extension": ".py",
   "mimetype": "text/x-python",
   "name": "python",
   "nbconvert_exporter": "python",
   "pygments_lexer": "ipython3",
   "version": "3.7.12"
  }
 },
 "nbformat": 4,
 "nbformat_minor": 5
}
